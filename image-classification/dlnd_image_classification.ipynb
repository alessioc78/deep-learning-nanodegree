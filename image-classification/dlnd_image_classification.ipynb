{
 "cells": [
  {
   "cell_type": "markdown",
   "metadata": {
    "collapsed": true,
    "deletable": true,
    "editable": true
   },
   "source": [
    "# Image Classification\n",
    "In this project, you'll classify images from the [CIFAR-10 dataset](https://www.cs.toronto.edu/~kriz/cifar.html).  The dataset consists of airplanes, dogs, cats, and other objects. You'll preprocess the images, then train a convolutional neural network on all the samples. The images need to be normalized and the labels need to be one-hot encoded.  You'll get to apply what you learned and build a convolutional, max pooling, dropout, and fully connected layers.  At the end, you'll get to see your neural network's predictions on the sample images.\n",
    "## Get the Data\n",
    "Run the following cell to download the [CIFAR-10 dataset for python](https://www.cs.toronto.edu/~kriz/cifar-10-python.tar.gz)."
   ]
  },
  {
   "cell_type": "code",
   "execution_count": 2,
   "metadata": {
    "collapsed": false,
    "deletable": true,
    "editable": true
   },
   "outputs": [
    {
     "name": "stdout",
     "output_type": "stream",
     "text": [
      "All files found!\n"
     ]
    }
   ],
   "source": [
    "\"\"\"\n",
    "DON'T MODIFY ANYTHING IN THIS CELL THAT IS BELOW THIS LINE\n",
    "\"\"\"\n",
    "from urllib.request import urlretrieve\n",
    "from os.path import isfile, isdir\n",
    "from tqdm import tqdm\n",
    "import problem_unittests as tests\n",
    "import tarfile\n",
    "\n",
    "cifar10_dataset_folder_path = 'cifar-10-batches-py'\n",
    "\n",
    "class DLProgress(tqdm):\n",
    "    last_block = 0\n",
    "\n",
    "    def hook(self, block_num=1, block_size=1, total_size=None):\n",
    "        self.total = total_size\n",
    "        self.update((block_num - self.last_block) * block_size)\n",
    "        self.last_block = block_num\n",
    "\n",
    "if not isfile('cifar-10-python.tar.gz'):\n",
    "    with DLProgress(unit='B', unit_scale=True, miniters=1, desc='CIFAR-10 Dataset') as pbar:\n",
    "        urlretrieve(\n",
    "            'https://www.cs.toronto.edu/~kriz/cifar-10-python.tar.gz',\n",
    "            'cifar-10-python.tar.gz',\n",
    "            pbar.hook)\n",
    "\n",
    "if not isdir(cifar10_dataset_folder_path):\n",
    "    with tarfile.open('cifar-10-python.tar.gz') as tar:\n",
    "        tar.extractall()\n",
    "        tar.close()\n",
    "\n",
    "\n",
    "tests.test_folder_path(cifar10_dataset_folder_path)"
   ]
  },
  {
   "cell_type": "markdown",
   "metadata": {
    "deletable": true,
    "editable": true
   },
   "source": [
    "## Explore the Data\n",
    "The dataset is broken into batches to prevent your machine from running out of memory.  The CIFAR-10 dataset consists of 5 batches, named `data_batch_1`, `data_batch_2`, etc.. Each batch contains the labels and images that are one of the following:\n",
    "* airplane\n",
    "* automobile\n",
    "* bird\n",
    "* cat\n",
    "* deer\n",
    "* dog\n",
    "* frog\n",
    "* horse\n",
    "* ship\n",
    "* truck\n",
    "\n",
    "Understanding a dataset is part of making predictions on the data.  Play around with the code cell below by changing the `batch_id` and `sample_id`. The `batch_id` is the id for a batch (1-5). The `sample_id` is the id for a image and label pair in the batch.\n",
    "\n",
    "Ask yourself \"What are all possible labels?\", \"What is the range of values for the image data?\", \"Are the labels in order or random?\".  Answers to questions like these will help you preprocess the data and end up with better predictions."
   ]
  },
  {
   "cell_type": "code",
   "execution_count": 3,
   "metadata": {
    "collapsed": false,
    "deletable": true,
    "editable": true
   },
   "outputs": [
    {
     "name": "stdout",
     "output_type": "stream",
     "text": [
      "\n",
      "Stats of batch 1:\n",
      "Samples: 10000\n",
      "Label Counts: {0: 1005, 1: 974, 2: 1032, 3: 1016, 4: 999, 5: 937, 6: 1030, 7: 1001, 8: 1025, 9: 981}\n",
      "First 20 Labels: [6, 9, 9, 4, 1, 1, 2, 7, 8, 3, 4, 7, 7, 2, 9, 9, 9, 3, 2, 6]\n",
      "\n",
      "Example of Image 5:\n",
      "Image - Min Value: 0 Max Value: 252\n",
      "Image - Shape: (32, 32, 3)\n",
      "Label - Label Id: 1 Name: automobile\n"
     ]
    },
    {
     "data": {
      "image/png": "[encoded data removed]",
      "text/plain": [
       "<matplotlib.figure.Figure at 0x7f6f3ec410b8>"
      ]
     },
     "metadata": {
      "image/png": {
       "height": 250,
       "width": 253
      }
     },
     "output_type": "display_data"
    }
   ],
   "source": [
    "%matplotlib inline\n",
    "%config InlineBackend.figure_format = 'retina'\n",
    "\n",
    "import helper\n",
    "import numpy as np\n",
    "\n",
    "# Explore the dataset\n",
    "batch_id = 1\n",
    "sample_id = 5\n",
    "helper.display_stats(cifar10_dataset_folder_path, batch_id, sample_id)"
   ]
  },
  {
   "cell_type": "markdown",
   "metadata": {
    "deletable": true,
    "editable": true
   },
   "source": [
    "## Implement Preprocess Functions\n",
    "### Normalize\n",
    "In the cell below, implement the `normalize` function to take in image data, `x`, and return it as a normalized Numpy array. The values should be in the range of 0 to 1, inclusive.  The return object should be the same shape as `x`."
   ]
  },
  {
   "cell_type": "code",
   "execution_count": 4,
   "metadata": {
    "collapsed": false,
    "deletable": true,
    "editable": true
   },
   "outputs": [
    {
     "name": "stdout",
     "output_type": "stream",
     "text": [
      "Tests Passed\n"
     ]
    }
   ],
   "source": [
    "def normalize(x):\n",
    "    \"\"\"\n",
    "    Normalize a list of sample image data in the range of 0 to 1\n",
    "    : x: List of image data.  The image shape is (32, 32, 3)\n",
    "    : return: Numpy array of normalize data\n",
    "    \"\"\"\n",
    "    # TODO: Implement Function\n",
    "    # Divide parameter by number of color intensities, so that range is [0, 1]\n",
    "    return x/255\n",
    "\n",
    "\n",
    "\"\"\"\n",
    "DON'T MODIFY ANYTHING IN THIS CELL THAT IS BELOW THIS LINE\n",
    "\"\"\"\n",
    "tests.test_normalize(normalize)"
   ]
  },
  {
   "cell_type": "markdown",
   "metadata": {
    "deletable": true,
    "editable": true
   },
   "source": [
    "### One-hot encode\n",
    "Just like the previous code cell, you'll be implementing a function for preprocessing.  This time, you'll implement the `one_hot_encode` function. The input, `x`, are a list of labels.  Implement the function to return the list of labels as One-Hot encoded Numpy array.  The possible values for labels are 0 to 9. The one-hot encoding function should return the same encoding for each value between each call to `one_hot_encode`.  Make sure to save the map of encodings outside the function.\n",
    "\n",
    "Hint: Don't reinvent the wheel."
   ]
  },
  {
   "cell_type": "code",
   "execution_count": 5,
   "metadata": {
    "collapsed": false,
    "deletable": true,
    "editable": true
   },
   "outputs": [
    {
     "name": "stdout",
     "output_type": "stream",
     "text": [
      "Tests Passed\n"
     ]
    }
   ],
   "source": [
    "from sklearn.preprocessing import LabelBinarizer\n",
    "# dictionary of labels to descriptions\n",
    "label_dict = {0: 'airplane',1: 'automobile',2: 'bird',3: 'cat',\n",
    "              4: 'deer', 5:'dog', 6:'frog', 7:'horse', 8:'ship', 9:'truck'}\n",
    "\n",
    "def one_hot_encode(x):\n",
    "    \"\"\"\n",
    "    One hot encode a list of sample labels. Return a one-hot encoded vector for each label.\n",
    "    : x: List of sample Labels\n",
    "    : return: Numpy array of one-hot encoded labels\n",
    "    \"\"\"\n",
    "    # TODO: Implement Function\n",
    "    encoder = LabelBinarizer()\n",
    "    encoder.fit(np.arange(0,10))\n",
    "    #print(encoder.classes_)\n",
    "    y = encoder.transform(x)\n",
    "    return y\n",
    "\n",
    "\n",
    "\"\"\"\n",
    "DON'T MODIFY ANYTHING IN THIS CELL THAT IS BELOW THIS LINE\n",
    "\"\"\"\n",
    "tests.test_one_hot_encode(one_hot_encode)"
   ]
  },
  {
   "cell_type": "markdown",
   "metadata": {
    "deletable": true,
    "editable": true
   },
   "source": [
    "### Randomize Data\n",
    "As you saw from exploring the data above, the order of the samples are randomized.  It doesn't hurt to randomize it again, but you don't need to for this dataset."
   ]
  },
  {
   "cell_type": "markdown",
   "metadata": {
    "deletable": true,
    "editable": true
   },
   "source": [
    "## Preprocess all the data and save it\n",
    "Running the code cell below will preprocess all the CIFAR-10 data and save it to file. The code below also uses 10% of the training data for validation."
   ]
  },
  {
   "cell_type": "code",
   "execution_count": 6,
   "metadata": {
    "collapsed": false,
    "deletable": true,
    "editable": true
   },
   "outputs": [],
   "source": [
    "\"\"\"\n",
    "DON'T MODIFY ANYTHING IN THIS CELL\n",
    "\"\"\"\n",
    "# Preprocess Training, Validation, and Testing Data\n",
    "helper.preprocess_and_save_data(cifar10_dataset_folder_path, normalize, one_hot_encode)"
   ]
  },
  {
   "cell_type": "markdown",
   "metadata": {
    "deletable": true,
    "editable": true
   },
   "source": [
    "# Check Point\n",
    "This is your first checkpoint.  If you ever decide to come back to this notebook or have to restart the notebook, you can start from here.  The preprocessed data has been saved to disk."
   ]
  },
  {
   "cell_type": "code",
   "execution_count": 2,
   "metadata": {
    "collapsed": true,
    "deletable": true,
    "editable": true
   },
   "outputs": [],
   "source": [
    "\"\"\"\n",
    "DON'T MODIFY ANYTHING IN THIS CELL\n",
    "\"\"\"\n",
    "import pickle\n",
    "import problem_unittests as tests\n",
    "import helper\n",
    "\n",
    "# Load the Preprocessed Validation data\n",
    "valid_features, valid_labels = pickle.load(open('preprocess_validation.p', mode='rb'))"
   ]
  },
  {
   "cell_type": "markdown",
   "metadata": {
    "deletable": true,
    "editable": true
   },
   "source": [
    "## Build the network\n",
    "For the neural network, you'll build each layer into a function.  Most of the code you've seen has been outside of functions. To test your code more thoroughly, we require that you put each layer in a function.  This allows us to give you better feedback and test for simple mistakes using our unittests before you submit your project.\n",
    "\n",
    ">**Note:** If you're finding it hard to dedicate enough time for this course each week, we've provided a small shortcut to this part of the project. In the next couple of problems, you'll have the option to use classes from the [TensorFlow Layers](https://www.tensorflow.org/api_docs/python/tf/layers) or [TensorFlow Layers (contrib)](https://www.tensorflow.org/api_guides/python/contrib.layers) packages to build each layer, except the layers you build in the \"Convolutional and Max Pooling Layer\" section.  TF Layers is similar to Keras's and TFLearn's abstraction to layers, so it's easy to pickup.\n",
    "\n",
    ">However, if you would like to get the most out of this course, try to solve all the problems _without_ using anything from the TF Layers packages. You **can** still use classes from other packages that happen to have the same name as ones you find in TF Layers! For example, instead of using the TF Layers version of the `conv2d` class, [tf.layers.conv2d](https://www.tensorflow.org/api_docs/python/tf/layers/conv2d), you would want to use the TF Neural Network version of `conv2d`, [tf.nn.conv2d](https://www.tensorflow.org/api_docs/python/tf/nn/conv2d). \n",
    "\n",
    "Let's begin!\n",
    "\n",
    "### Input\n",
    "The neural network needs to read the image data, one-hot encoded labels, and dropout keep probability. Implement the following functions\n",
    "* Implement `neural_net_image_input`\n",
    " * Return a [TF Placeholder](https://www.tensorflow.org/api_docs/python/tf/placeholder)\n",
    " * Set the shape using `image_shape` with batch size set to `None`.\n",
    " * Name the TensorFlow placeholder \"x\" using the TensorFlow `name` parameter in the [TF Placeholder](https://www.tensorflow.org/api_docs/python/tf/placeholder).\n",
    "* Implement `neural_net_label_input`\n",
    " * Return a [TF Placeholder](https://www.tensorflow.org/api_docs/python/tf/placeholder)\n",
    " * Set the shape using `n_classes` with batch size set to `None`.\n",
    " * Name the TensorFlow placeholder \"y\" using the TensorFlow `name` parameter in the [TF Placeholder](https://www.tensorflow.org/api_docs/python/tf/placeholder).\n",
    "* Implement `neural_net_keep_prob_input`\n",
    " * Return a [TF Placeholder](https://www.tensorflow.org/api_docs/python/tf/placeholder) for dropout keep probability.\n",
    " * Name the TensorFlow placeholder \"keep_prob\" using the TensorFlow `name` parameter in the [TF Placeholder](https://www.tensorflow.org/api_docs/python/tf/placeholder).\n",
    "\n",
    "These names will be used at the end of the project to load your saved model.\n",
    "\n",
    "Note: `None` for shapes in TensorFlow allow for a dynamic size."
   ]
  },
  {
   "cell_type": "code",
   "execution_count": 3,
   "metadata": {
    "collapsed": false,
    "deletable": true,
    "editable": true
   },
   "outputs": [
    {
     "name": "stdout",
     "output_type": "stream",
     "text": [
      "Image Input Tests Passed.\n",
      "Label Input Tests Passed.\n",
      "Keep Prob Tests Passed.\n"
     ]
    }
   ],
   "source": [
    "import tensorflow as tf\n",
    "\n",
    "def neural_net_image_input(image_shape):\n",
    "    \"\"\"\n",
    "    Return a Tensor for a bach of image input\n",
    "    : image_shape: Shape of the images\n",
    "    : return: Tensor for image input.\n",
    "    \"\"\"\n",
    "    # TODO: Implement Function\n",
    "    # create a list for the dimension, with None as first element\n",
    "    # append the other numbers from image_shape passed to function\n",
    "    shape = [None,]\n",
    "    for dimensions in image_shape:\n",
    "        shape.append(dimensions)\n",
    "    image_input = tf.placeholder(tf.float32, shape, name=\"x\")\n",
    "\n",
    "    return image_input\n",
    "\n",
    "\n",
    "def neural_net_label_input(n_classes):\n",
    "    \"\"\"\n",
    "    Return a Tensor for a batch of label input\n",
    "    : n_classes: Number of classes\n",
    "    : return: Tensor for label input.\n",
    "    \"\"\"\n",
    "    # TODO: Implement Function\n",
    "    # create a list for the dimension, with None as first element\n",
    "    # and n_classes passed to function as second element\n",
    "    shape = [None, n_classes] \n",
    "    label_input = tf.placeholder(tf.float32, shape, name=\"y\")\n",
    "    return label_input\n",
    "\n",
    "\n",
    "def neural_net_keep_prob_input():\n",
    "    \"\"\"\n",
    "    Return a Tensor for keep probability\n",
    "    : return: Tensor for keep probability.\n",
    "    \"\"\"\n",
    "    # TODO: Implement Function\n",
    "        \n",
    "    keep_prob = tf.placeholder(tf.float32, name=\"keep_prob\")\n",
    "    return keep_prob\n",
    "\n",
    "\n",
    "\"\"\"\n",
    "DON'T MODIFY ANYTHING IN THIS CELL THAT IS BELOW THIS LINE\n",
    "\"\"\"\n",
    "tf.reset_default_graph()\n",
    "tests.test_nn_image_inputs(neural_net_image_input)\n",
    "tests.test_nn_label_inputs(neural_net_label_input)\n",
    "tests.test_nn_keep_prob_inputs(neural_net_keep_prob_input)"
   ]
  },
  {
   "cell_type": "markdown",
   "metadata": {
    "deletable": true,
    "editable": true
   },
   "source": [
    "### Convolution and Max Pooling Layer\n",
    "Convolution layers have a lot of success with images. For this code cell, you should implement the function `conv2d_maxpool` to apply convolution then max pooling:\n",
    "* Create the weight and bias using `conv_ksize`, `conv_num_outputs` and the shape of `x_tensor`.\n",
    "* Apply a convolution to `x_tensor` using weight and `conv_strides`.\n",
    " * We recommend you use same padding, but you're welcome to use any padding.\n",
    "* Add bias\n",
    "* Add a nonlinear activation to the convolution.\n",
    "* Apply Max Pooling using `pool_ksize` and `pool_strides`.\n",
    " * We recommend you use same padding, but you're welcome to use any padding.\n",
    "\n",
    "**Note:** You **can't** use [TensorFlow Layers](https://www.tensorflow.org/api_docs/python/tf/layers) or [TensorFlow Layers (contrib)](https://www.tensorflow.org/api_guides/python/contrib.layers) for **this** layer, but you can still use TensorFlow's [Neural Network](https://www.tensorflow.org/api_docs/python/tf/nn) package. You may still use the shortcut option for all the **other** layers."
   ]
  },
  {
   "cell_type": "code",
   "execution_count": 84,
   "metadata": {
    "collapsed": false,
    "deletable": true,
    "editable": true
   },
   "outputs": [
    {
     "name": "stdout",
     "output_type": "stream",
     "text": [
      "Tests Passed\n"
     ]
    }
   ],
   "source": [
    "def conv2d_maxpool(x_tensor, conv_num_outputs, conv_ksize, conv_strides, pool_ksize, pool_strides):\n",
    "    \"\"\"\n",
    "    Apply convolution then max pooling to x_tensor\n",
    "    :param x_tensor: TensorFlow Tensor\n",
    "    :param conv_num_outputs: Number of outputs for the convolutional layer\n",
    "    :param conv_ksize: kernal size 2-D Tuple for the convolutional layer\n",
    "    :param conv_strides: Stride 2-D Tuple for convolution\n",
    "    :param pool_ksize: kernal size 2-D Tuple for pool\n",
    "    :param pool_strides: Stride 2-D Tuple for pool\n",
    "    : return: A tensor that represents convolution and max pooling of x_tensor\n",
    "    \"\"\"\n",
    "    # TODO: Implement Function\n",
    "    # weight and bias\n",
    "    color_channels = int(x_tensor.shape[3])\n",
    "    weight_shape = [conv_ksize[0], conv_ksize[1], color_channels, conv_num_outputs] \n",
    "    weight = tf.Variable(tf.truncated_normal(weight_shape,stddev=0.05))\n",
    "    bias = tf.Variable(tf.constant(0.05, shape=[conv_num_outputs]))\n",
    "    # strides list for convolution and pool\n",
    "    strides_conv = [1, conv_strides[0], conv_strides[1], 1]\n",
    "    strides_pool = [1, pool_strides[0], pool_strides[1], 1]\n",
    "    # dimensions of pool filter for k_size\n",
    "    pool_filter = [1, pool_ksize[0], pool_ksize[1], 1]\n",
    "    # Apply Convolution\n",
    "    conv_layer = tf.nn.conv2d(x_tensor, weight, strides=strides_conv, padding='SAME')\n",
    "    # Add bias\n",
    "    conv_layer = tf.nn.bias_add(conv_layer, bias)\n",
    "    # Apply activation function\n",
    "    conv_layer = tf.nn.relu(conv_layer)\n",
    "    # Apply Max Pooling\n",
    "    conv_layer = tf.nn.max_pool(conv_layer, ksize=pool_filter, \n",
    "                strides=strides_pool, padding='SAME')  \n",
    "    return conv_layer\n",
    "\n",
    "\"\"\"\n",
    "DON'T MODIFY ANYTHING IN THIS CELL THAT IS BELOW THIS LINE\n",
    "\"\"\"\n",
    "tests.test_con_pool(conv2d_maxpool)"
   ]
  },
  {
   "cell_type": "markdown",
   "metadata": {
    "deletable": true,
    "editable": true
   },
   "source": [
    "### Flatten Layer\n",
    "Implement the `flatten` function to change the dimension of `x_tensor` from a 4-D tensor to a 2-D tensor.  The output should be the shape (*Batch Size*, *Flattened Image Size*). Shortcut option: you can use classes from the [TensorFlow Layers](https://www.tensorflow.org/api_docs/python/tf/layers) or [TensorFlow Layers (contrib)](https://www.tensorflow.org/api_guides/python/contrib.layers) packages for this layer. For more of a challenge, only use other TensorFlow packages."
   ]
  },
  {
   "cell_type": "code",
   "execution_count": 85,
   "metadata": {
    "collapsed": false,
    "deletable": true,
    "editable": true
   },
   "outputs": [
    {
     "name": "stdout",
     "output_type": "stream",
     "text": [
      "Tests Passed\n"
     ]
    }
   ],
   "source": [
    "def flatten(x_tensor):\n",
    "    \"\"\"\n",
    "    Flatten x_tensor to (Batch Size, Flattened Image Size)\n",
    "    : x_tensor: A tensor of size (Batch Size, ...), where ... are the image dimensions.\n",
    "    : return: A tensor of size (Batch Size, Flattened Image Size).\n",
    "    \"\"\"\n",
    "    # TODO: Implement Function\n",
    "    fl_tensor = tf.reshape(x_tensor, shape=[-1,\n",
    "                int(x_tensor.shape[1] * x_tensor.shape[2] * x_tensor.shape[3])])\n",
    "    return fl_tensor\n",
    "\n",
    "\"\"\"\n",
    "DON'T MODIFY ANYTHING IN THIS CELL THAT IS BELOW THIS LINE\n",
    "\"\"\"\n",
    "tests.test_flatten(flatten)"
   ]
  },
  {
   "cell_type": "markdown",
   "metadata": {
    "deletable": true,
    "editable": true
   },
   "source": [
    "### Fully-Connected Layer\n",
    "Implement the `fully_conn` function to apply a fully connected layer to `x_tensor` with the shape (*Batch Size*, *num_outputs*). Shortcut option: you can use classes from the [TensorFlow Layers](https://www.tensorflow.org/api_docs/python/tf/layers) or [TensorFlow Layers (contrib)](https://www.tensorflow.org/api_guides/python/contrib.layers) packages for this layer. For more of a challenge, only use other TensorFlow packages."
   ]
  },
  {
   "cell_type": "code",
   "execution_count": 86,
   "metadata": {
    "collapsed": false,
    "deletable": true,
    "editable": true
   },
   "outputs": [
    {
     "name": "stdout",
     "output_type": "stream",
     "text": [
      "Tests Passed\n"
     ]
    }
   ],
   "source": [
    "def fully_conn(x_tensor, num_outputs):\n",
    "    \"\"\"\n",
    "    Apply a fully connected layer to x_tensor using weight and bias\n",
    "    : x_tensor: A 2-D tensor where the first dimension is batch size.\n",
    "    : num_outputs: The number of output that the new tensor should be.\n",
    "    : return: A 2-D tensor where the second dimension is num_outputs.\n",
    "    \"\"\"\n",
    "    # TODO: Implement Function\n",
    "    # weights and bias\n",
    "    # tensor shape [1] is the second dimension (features size)\n",
    "    weight = tf.Variable(tf.truncated_normal([int(x_tensor.shape[1]), num_outputs], stddev=0.05))\n",
    "    bias = tf.Variable(tf.constant(0.05, shape=[num_outputs]))\n",
    "    # apply a fully connected layer\n",
    "    layer = tf.add(tf.matmul(x_tensor, weight), bias)\n",
    "    # Relu activation function\n",
    "    layer = tf.nn.relu(layer)                        \n",
    "    return layer\n",
    "\n",
    "\n",
    "\"\"\"\n",
    "DON'T MODIFY ANYTHING IN THIS CELL THAT IS BELOW THIS LINE\n",
    "\"\"\"\n",
    "tests.test_fully_conn(fully_conn)"
   ]
  },
  {
   "cell_type": "markdown",
   "metadata": {
    "deletable": true,
    "editable": true
   },
   "source": [
    "### Output Layer\n",
    "Implement the `output` function to apply a fully connected layer to `x_tensor` with the shape (*Batch Size*, *num_outputs*). Shortcut option: you can use classes from the [TensorFlow Layers](https://www.tensorflow.org/api_docs/python/tf/layers) or [TensorFlow Layers (contrib)](https://www.tensorflow.org/api_guides/python/contrib.layers) packages for this layer. For more of a challenge, only use other TensorFlow packages.\n",
    "\n",
    "**Note:** Activation, softmax, or cross entropy should **not** be applied to this."
   ]
  },
  {
   "cell_type": "code",
   "execution_count": 87,
   "metadata": {
    "collapsed": false,
    "deletable": true,
    "editable": true
   },
   "outputs": [
    {
     "name": "stdout",
     "output_type": "stream",
     "text": [
      "Tests Passed\n"
     ]
    }
   ],
   "source": [
    "def output(x_tensor, num_outputs):\n",
    "    \"\"\"\n",
    "    Apply a output layer to x_tensor using weight and bias\n",
    "    : x_tensor: A 2-D tensor where the first dimension is batch size.\n",
    "    : num_outputs: The number of output that the new tensor should be.\n",
    "    : return: A 2-D tensor where the second dimension is num_outputs.\n",
    "    \"\"\"\n",
    "    # TODO: Implement Function\n",
    "    # weight and bias\n",
    "    weight = tf.Variable(tf.truncated_normal([int(x_tensor.shape[1]), num_outputs], stddev=0.05))\n",
    "    bias = tf.Variable(tf.constant(0.05,shape=[num_outputs]))\n",
    "    # apply linear output layer\n",
    "    out_layer = tf.add(tf.matmul(x_tensor, weight), bias)\n",
    "    return out_layer\n",
    "\n",
    "\n",
    "\"\"\"\n",
    "DON'T MODIFY ANYTHING IN THIS CELL THAT IS BELOW THIS LINE\n",
    "\"\"\"\n",
    "tests.test_output(output)"
   ]
  },
  {
   "cell_type": "markdown",
   "metadata": {
    "deletable": true,
    "editable": true
   },
   "source": [
    "### Create Convolutional Model\n",
    "Implement the function `conv_net` to create a convolutional neural network model. The function takes in a batch of images, `x`, and outputs logits.  Use the layers you created above to create this model:\n",
    "\n",
    "* Apply 1, 2, or 3 Convolution and Max Pool layers\n",
    "* Apply a Flatten Layer\n",
    "* Apply 1, 2, or 3 Fully Connected Layers\n",
    "* Apply an Output Layer\n",
    "* Return the output\n",
    "* Apply [TensorFlow's Dropout](https://www.tensorflow.org/api_docs/python/tf/nn/dropout) to one or more layers in the model using `keep_prob`. "
   ]
  },
  {
   "cell_type": "code",
   "execution_count": 139,
   "metadata": {
    "collapsed": false,
    "deletable": true,
    "editable": true
   },
   "outputs": [
    {
     "name": "stdout",
     "output_type": "stream",
     "text": [
      "Neural Network Built!\n"
     ]
    }
   ],
   "source": [
    "def conv_net(x, keep_prob):\n",
    "    \"\"\"\n",
    "    Create a convolutional neural network model\n",
    "    : x: Placeholder tensor that holds image data.\n",
    "    : keep_prob: Placeholder tensor that hold dropout keep probability.\n",
    "    : return: Tensor that represents logits\n",
    "    \"\"\"\n",
    "    # TODO: Apply 1, 2, or 3 Convolution and Max Pool layers\n",
    "    #    Play around with different number of outputs, kernel size and stride\n",
    "    # Function Definition from Above:\n",
    "    conv = conv2d_maxpool(x, 100, (4, 4), (2,2), (2,2), (2,2))\n",
    "    #conv = conv2d_maxpool(conv, 120, (4, 4), (1,1), (2,2), (2,2))\n",
    "    conv = conv2d_maxpool(conv, 300, (3, 3), (1,1), (2,2), (2,2))\n",
    "    \n",
    "    \n",
    "\n",
    "    # TODO: Apply a Flatten Layer\n",
    "    # Function Definition from Above:\n",
    "    conv = flatten(conv)\n",
    "    \n",
    "\n",
    "    # TODO: Apply 1, 2, or 3 Fully Connected Layers\n",
    "    #    Play around with different number of outputs\n",
    "    # Function Definition from Above:\n",
    "    conv = fully_conn(conv, 50)\n",
    "    #conv = fully_conn(conv, 15)\n",
    "    conv = tf.nn.dropout(conv, keep_prob)\n",
    "    \n",
    "    \n",
    "    # TODO: Apply an Output Layer\n",
    "    #    Set this to the number of classes\n",
    "    # Function Definition from Above:\n",
    "    conv = output(conv, 10)\n",
    "    \n",
    "    \n",
    "    # TODO: return output\n",
    "    return conv\n",
    "\n",
    "\n",
    "\"\"\"\n",
    "DON'T MODIFY ANYTHING IN THIS CELL THAT IS BELOW THIS LINE\n",
    "\"\"\"\n",
    "\n",
    "##############################\n",
    "## Build the Neural Network ##\n",
    "##############################\n",
    "\n",
    "# Remove previous weights, bias, inputs, etc..\n",
    "tf.reset_default_graph()\n",
    "\n",
    "# Inputs\n",
    "x = neural_net_image_input((32, 32, 3))\n",
    "y = neural_net_label_input(10)\n",
    "keep_prob = neural_net_keep_prob_input()\n",
    "\n",
    "# Model\n",
    "logits = conv_net(x, keep_prob)\n",
    "\n",
    "# Name logits Tensor, so that is can be loaded from disk after training\n",
    "logits = tf.identity(logits, name='logits')\n",
    "\n",
    "# Loss and Optimizer\n",
    "cost = tf.reduce_mean(tf.nn.softmax_cross_entropy_with_logits(logits=logits, labels=y))\n",
    "optimizer = tf.train.AdamOptimizer().minimize(cost)\n",
    "\n",
    "# Accuracy\n",
    "correct_pred = tf.equal(tf.argmax(logits, 1), tf.argmax(y, 1))\n",
    "accuracy = tf.reduce_mean(tf.cast(correct_pred, tf.float32), name='accuracy')\n",
    "\n",
    "tests.test_conv_net(conv_net)"
   ]
  },
  {
   "cell_type": "markdown",
   "metadata": {
    "deletable": true,
    "editable": true
   },
   "source": [
    "## Train the Neural Network\n",
    "### Single Optimization\n",
    "Implement the function `train_neural_network` to do a single optimization.  The optimization should use `optimizer` to optimize in `session` with a `feed_dict` of the following:\n",
    "* `x` for image input\n",
    "* `y` for labels\n",
    "* `keep_prob` for keep probability for dropout\n",
    "\n",
    "This function will be called for each batch, so `tf.global_variables_initializer()` has already been called.\n",
    "\n",
    "Note: Nothing needs to be returned. This function is only optimizing the neural network."
   ]
  },
  {
   "cell_type": "code",
   "execution_count": 140,
   "metadata": {
    "collapsed": false,
    "deletable": true,
    "editable": true
   },
   "outputs": [
    {
     "name": "stdout",
     "output_type": "stream",
     "text": [
      "Tests Passed\n"
     ]
    }
   ],
   "source": [
    "def train_neural_network(session, optimizer, keep_probability, feature_batch, label_batch):\n",
    "    \"\"\"\n",
    "    Optimize the session on a batch of images and labels\n",
    "    : session: Current TensorFlow session\n",
    "    : optimizer: TensorFlow optimizer function\n",
    "    : keep_probability: keep probability\n",
    "    : feature_batch: Batch of Numpy image data\n",
    "    : label_batch: Batch of Numpy label data\n",
    "    \"\"\"\n",
    "    # TODO: Implement Function\n",
    "    session.run(optimizer, feed_dict={x: feature_batch, \n",
    "                                     y: label_batch, \n",
    "                                     keep_prob: keep_probability})\n",
    "    pass\n",
    "\n",
    "\n",
    "\"\"\"\n",
    "DON'T MODIFY ANYTHING IN THIS CELL THAT IS BELOW THIS LINE\n",
    "\"\"\"\n",
    "tests.test_train_nn(train_neural_network)"
   ]
  },
  {
   "cell_type": "markdown",
   "metadata": {
    "deletable": true,
    "editable": true
   },
   "source": [
    "### Show Stats\n",
    "Implement the function `print_stats` to print loss and validation accuracy.  Use the global variables `valid_features` and `valid_labels` to calculate validation accuracy.  Use a keep probability of `1.0` to calculate the loss and validation accuracy."
   ]
  },
  {
   "cell_type": "code",
   "execution_count": 141,
   "metadata": {
    "collapsed": false,
    "deletable": true,
    "editable": true
   },
   "outputs": [],
   "source": [
    "def print_stats(session, feature_batch, label_batch, cost, accuracy):\n",
    "    \"\"\"\n",
    "    Print information about loss and validation accuracy\n",
    "    : session: Current TensorFlow session\n",
    "    : feature_batch: Batch of Numpy image data\n",
    "    : label_batch: Batch of Numpy label data\n",
    "    : cost: TensorFlow cost function\n",
    "    : accuracy: TensorFlow accuracy function\n",
    "    \"\"\"\n",
    "    # TODO: Implement Function\n",
    "    # run cost\n",
    "    sess_loss = session.run(cost, feed_dict={x: feature_batch, \n",
    "                                y: label_batch, \n",
    "                                keep_prob: 1.0})\n",
    "    # run accuracy\n",
    "    sess_accuracy = session.run(accuracy, feed_dict={x: valid_features, \n",
    "                                y: valid_labels, \n",
    "                                keep_prob: 1.0})\n",
    "    # print cost and accuracy\n",
    "    print('Loss: {} - Accuracy: {}'.format(sess_loss, sess_accuracy))\n",
    "    \n",
    "    pass"
   ]
  },
  {
   "cell_type": "markdown",
   "metadata": {
    "deletable": true,
    "editable": true
   },
   "source": [
    "### Hyperparameters\n",
    "Tune the following parameters:\n",
    "* Set `epochs` to the number of iterations until the network stops learning or start overfitting\n",
    "* Set `batch_size` to the highest number that your machine has memory for.  Most people set them to common sizes of memory:\n",
    " * 64\n",
    " * 128\n",
    " * 256\n",
    " * ...\n",
    "* Set `keep_probability` to the probability of keeping a node using dropout"
   ]
  },
  {
   "cell_type": "code",
   "execution_count": 143,
   "metadata": {
    "collapsed": true,
    "deletable": true,
    "editable": true
   },
   "outputs": [],
   "source": [
    "# TODO: Tune Parameters\n",
    "epochs = 35\n",
    "batch_size = 256\n",
    "keep_probability = 0.85"
   ]
  },
  {
   "cell_type": "markdown",
   "metadata": {
    "deletable": true,
    "editable": true
   },
   "source": [
    "### Train on a Single CIFAR-10 Batch\n",
    "Instead of training the neural network on all the CIFAR-10 batches of data, let's use a single batch. This should save time while you iterate on the model to get a better accuracy.  Once the final validation accuracy is 50% or greater, run the model on all the data in the next section."
   ]
  },
  {
   "cell_type": "code",
   "execution_count": 144,
   "metadata": {
    "collapsed": false,
    "deletable": true,
    "editable": true
   },
   "outputs": [
    {
     "name": "stdout",
     "output_type": "stream",
     "text": [
      "Checking the Training on a Single Batch...\n",
      "Epoch  1, CIFAR-10 Batch 1:  Loss: 2.150052785873413 - Accuracy: 0.2881999909877777\n",
      "Epoch  2, CIFAR-10 Batch 1:  Loss: 1.9288592338562012 - Accuracy: 0.3559999465942383\n",
      "Epoch  3, CIFAR-10 Batch 1:  Loss: 1.8330342769622803 - Accuracy: 0.3889999985694885\n",
      "Epoch  4, CIFAR-10 Batch 1:  Loss: 1.6808944940567017 - Accuracy: 0.4469999670982361\n",
      "Epoch  5, CIFAR-10 Batch 1:  Loss: 1.5843541622161865 - Accuracy: 0.4601999819278717\n",
      "Epoch  6, CIFAR-10 Batch 1:  Loss: 1.4832295179367065 - Accuracy: 0.46639999747276306\n",
      "Epoch  7, CIFAR-10 Batch 1:  Loss: 1.4617345333099365 - Accuracy: 0.46559998393058777\n",
      "Epoch  8, CIFAR-10 Batch 1:  Loss: 1.255646824836731 - Accuracy: 0.4963999390602112\n",
      "Epoch  9, CIFAR-10 Batch 1:  Loss: 1.1784394979476929 - Accuracy: 0.5075998902320862\n",
      "Epoch 10, CIFAR-10 Batch 1:  Loss: 1.0701203346252441 - Accuracy: 0.5153999328613281\n",
      "Epoch 11, CIFAR-10 Batch 1:  Loss: 1.049135446548462 - Accuracy: 0.48879995942115784\n",
      "Epoch 12, CIFAR-10 Batch 1:  Loss: 0.9375986456871033 - Accuracy: 0.5185999274253845\n",
      "Epoch 13, CIFAR-10 Batch 1:  Loss: 0.843214213848114 - Accuracy: 0.5203999280929565\n",
      "Epoch 14, CIFAR-10 Batch 1:  Loss: 0.8219255805015564 - Accuracy: 0.525999903678894\n",
      "Epoch 15, CIFAR-10 Batch 1:  Loss: 0.745475172996521 - Accuracy: 0.5481998920440674\n",
      "Epoch 16, CIFAR-10 Batch 1:  Loss: 0.699851393699646 - Accuracy: 0.5517999529838562\n",
      "Epoch 17, CIFAR-10 Batch 1:  Loss: 0.677815854549408 - Accuracy: 0.5585999488830566\n",
      "Epoch 18, CIFAR-10 Batch 1:  Loss: 0.6062616109848022 - Accuracy: 0.5637999176979065\n",
      "Epoch 19, CIFAR-10 Batch 1:  Loss: 0.5446981191635132 - Accuracy: 0.5781999230384827\n",
      "Epoch 20, CIFAR-10 Batch 1:  Loss: 0.4842243492603302 - Accuracy: 0.5735998749732971\n",
      "Epoch 21, CIFAR-10 Batch 1:  Loss: 0.4549068808555603 - Accuracy: 0.5637999176979065\n",
      "Epoch 22, CIFAR-10 Batch 1:  Loss: 0.4283753037452698 - Accuracy: 0.5773999094963074\n",
      "Epoch 23, CIFAR-10 Batch 1:  Loss: 0.37703171372413635 - Accuracy: 0.5719999670982361\n",
      "Epoch 24, CIFAR-10 Batch 1:  Loss: 0.3339913785457611 - Accuracy: 0.5733999609947205\n",
      "Epoch 25, CIFAR-10 Batch 1:  Loss: 0.2907065153121948 - Accuracy: 0.5847998857498169\n",
      "Epoch 26, CIFAR-10 Batch 1:  Loss: 0.26722627878189087 - Accuracy: 0.5935998558998108\n",
      "Epoch 27, CIFAR-10 Batch 1:  Loss: 0.25407442450523376 - Accuracy: 0.5963999032974243\n",
      "Epoch 28, CIFAR-10 Batch 1:  Loss: 0.2160051017999649 - Accuracy: 0.600399911403656\n",
      "Epoch 29, CIFAR-10 Batch 1:  Loss: 0.22064274549484253 - Accuracy: 0.5935999155044556\n",
      "Epoch 30, CIFAR-10 Batch 1:  Loss: 0.22101907432079315 - Accuracy: 0.5973999500274658\n",
      "Epoch 31, CIFAR-10 Batch 1:  Loss: 0.2181662917137146 - Accuracy: 0.5703999400138855\n",
      "Epoch 32, CIFAR-10 Batch 1:  Loss: 0.1976451277732849 - Accuracy: 0.5881998538970947\n",
      "Epoch 33, CIFAR-10 Batch 1:  Loss: 0.19286736845970154 - Accuracy: 0.5963999032974243\n",
      "Epoch 34, CIFAR-10 Batch 1:  Loss: 0.1833294928073883 - Accuracy: 0.5877998471260071\n",
      "Epoch 35, CIFAR-10 Batch 1:  Loss: 0.1569639891386032 - Accuracy: 0.6085999011993408\n"
     ]
    }
   ],
   "source": [
    "\"\"\"\n",
    "DON'T MODIFY ANYTHING IN THIS CELL\n",
    "\"\"\"\n",
    "print('Checking the Training on a Single Batch...')\n",
    "with tf.Session() as sess:\n",
    "    # Initializing the variables\n",
    "    sess.run(tf.global_variables_initializer())\n",
    "    \n",
    "    # Training cycle\n",
    "    for epoch in range(epochs):\n",
    "        batch_i = 1\n",
    "        for batch_features, batch_labels in helper.load_preprocess_training_batch(batch_i, batch_size):\n",
    "            train_neural_network(sess, optimizer, keep_probability, batch_features, batch_labels)\n",
    "        print('Epoch {:>2}, CIFAR-10 Batch {}:  '.format(epoch + 1, batch_i), end='')\n",
    "        print_stats(sess, batch_features, batch_labels, cost, accuracy)"
   ]
  },
  {
   "cell_type": "markdown",
   "metadata": {
    "deletable": true,
    "editable": true
   },
   "source": [
    "### Fully Train the Model\n",
    "Now that you got a good accuracy with a single CIFAR-10 batch, try it with all five batches."
   ]
  },
  {
   "cell_type": "code",
   "execution_count": 145,
   "metadata": {
    "collapsed": false,
    "deletable": true,
    "editable": true
   },
   "outputs": [
    {
     "name": "stdout",
     "output_type": "stream",
     "text": [
      "Training...\n",
      "Epoch  1, CIFAR-10 Batch 1:  Loss: 2.1931121349334717 - Accuracy: 0.17960000038146973\n",
      "Epoch  1, CIFAR-10 Batch 2:  Loss: 2.067356586456299 - Accuracy: 0.3161999583244324\n",
      "Epoch  1, CIFAR-10 Batch 3:  Loss: 1.6925415992736816 - Accuracy: 0.3375999331474304\n",
      "Epoch  1, CIFAR-10 Batch 4:  Loss: 1.688671350479126 - Accuracy: 0.40700000524520874\n",
      "Epoch  1, CIFAR-10 Batch 5:  Loss: 1.658887267112732 - Accuracy: 0.41419997811317444\n",
      "Epoch  2, CIFAR-10 Batch 1:  Loss: 1.8815851211547852 - Accuracy: 0.4235999882221222\n",
      "Epoch  2, CIFAR-10 Batch 2:  Loss: 1.6217780113220215 - Accuracy: 0.45979994535446167\n",
      "Epoch  2, CIFAR-10 Batch 3:  Loss: 1.2503052949905396 - Accuracy: 0.4439999461174011\n",
      "Epoch  2, CIFAR-10 Batch 4:  Loss: 1.4363608360290527 - Accuracy: 0.4705999791622162\n",
      "Epoch  2, CIFAR-10 Batch 5:  Loss: 1.460365891456604 - Accuracy: 0.47199997305870056\n",
      "Epoch  3, CIFAR-10 Batch 1:  Loss: 1.5154258012771606 - Accuracy: 0.47279995679855347\n",
      "Epoch  3, CIFAR-10 Batch 2:  Loss: 1.3650107383728027 - Accuracy: 0.5175999402999878\n",
      "Epoch  3, CIFAR-10 Batch 3:  Loss: 1.0429999828338623 - Accuracy: 0.49919992685317993\n",
      "Epoch  3, CIFAR-10 Batch 4:  Loss: 1.267964243888855 - Accuracy: 0.535599946975708\n",
      "Epoch  3, CIFAR-10 Batch 5:  Loss: 1.3099859952926636 - Accuracy: 0.5031999349594116\n",
      "Epoch  4, CIFAR-10 Batch 1:  Loss: 1.2978532314300537 - Accuracy: 0.5209999084472656\n",
      "Epoch  4, CIFAR-10 Batch 2:  Loss: 1.1510859727859497 - Accuracy: 0.5388000011444092\n",
      "Epoch  4, CIFAR-10 Batch 3:  Loss: 0.8981591463088989 - Accuracy: 0.5371999740600586\n",
      "Epoch  4, CIFAR-10 Batch 4:  Loss: 1.1709728240966797 - Accuracy: 0.5535999536514282\n",
      "Epoch  4, CIFAR-10 Batch 5:  Loss: 1.1427526473999023 - Accuracy: 0.5569999814033508\n",
      "Epoch  5, CIFAR-10 Batch 1:  Loss: 1.1355189085006714 - Accuracy: 0.5567998886108398\n",
      "Epoch  5, CIFAR-10 Batch 2:  Loss: 1.0491056442260742 - Accuracy: 0.549799919128418\n",
      "Epoch  5, CIFAR-10 Batch 3:  Loss: 0.8143577575683594 - Accuracy: 0.5691999197006226\n",
      "Epoch  5, CIFAR-10 Batch 4:  Loss: 1.0787931680679321 - Accuracy: 0.5809999108314514\n",
      "Epoch  5, CIFAR-10 Batch 5:  Loss: 1.0089713335037231 - Accuracy: 0.5847998857498169\n",
      "Epoch  6, CIFAR-10 Batch 1:  Loss: 1.0148320198059082 - Accuracy: 0.5847999453544617\n",
      "Epoch  6, CIFAR-10 Batch 2:  Loss: 0.8595134019851685 - Accuracy: 0.5789999961853027\n",
      "Epoch  6, CIFAR-10 Batch 3:  Loss: 0.7589262127876282 - Accuracy: 0.5969998836517334\n",
      "Epoch  6, CIFAR-10 Batch 4:  Loss: 0.9989258050918579 - Accuracy: 0.6035999059677124\n",
      "Epoch  6, CIFAR-10 Batch 5:  Loss: 0.8823496699333191 - Accuracy: 0.611599862575531\n",
      "Epoch  7, CIFAR-10 Batch 1:  Loss: 0.898454487323761 - Accuracy: 0.6075999140739441\n",
      "Epoch  7, CIFAR-10 Batch 2:  Loss: 0.7460564374923706 - Accuracy: 0.6083998680114746\n",
      "Epoch  7, CIFAR-10 Batch 3:  Loss: 0.6682192087173462 - Accuracy: 0.6107999086380005\n",
      "Epoch  7, CIFAR-10 Batch 4:  Loss: 0.8633559942245483 - Accuracy: 0.6201999187469482\n",
      "Epoch  7, CIFAR-10 Batch 5:  Loss: 0.7587372064590454 - Accuracy: 0.621799886226654\n",
      "Epoch  8, CIFAR-10 Batch 1:  Loss: 0.8051995635032654 - Accuracy: 0.6163999438285828\n",
      "Epoch  8, CIFAR-10 Batch 2:  Loss: 0.6440743207931519 - Accuracy: 0.6307998895645142\n",
      "Epoch  8, CIFAR-10 Batch 3:  Loss: 0.5900285243988037 - Accuracy: 0.6319999098777771\n",
      "Epoch  8, CIFAR-10 Batch 4:  Loss: 0.7539685964584351 - Accuracy: 0.6337998509407043\n",
      "Epoch  8, CIFAR-10 Batch 5:  Loss: 0.6610480546951294 - Accuracy: 0.6393999457359314\n",
      "Epoch  9, CIFAR-10 Batch 1:  Loss: 0.687936544418335 - Accuracy: 0.6483998894691467\n",
      "Epoch  9, CIFAR-10 Batch 2:  Loss: 0.5653201937675476 - Accuracy: 0.6463999152183533\n",
      "Epoch  9, CIFAR-10 Batch 3:  Loss: 0.500743567943573 - Accuracy: 0.6405998468399048\n",
      "Epoch  9, CIFAR-10 Batch 4:  Loss: 0.6581933498382568 - Accuracy: 0.6477998495101929\n",
      "Epoch  9, CIFAR-10 Batch 5:  Loss: 0.6090620756149292 - Accuracy: 0.6505998969078064\n",
      "Epoch 10, CIFAR-10 Batch 1:  Loss: 0.6121053099632263 - Accuracy: 0.6447998881340027\n",
      "Epoch 10, CIFAR-10 Batch 2:  Loss: 0.4847961962223053 - Accuracy: 0.648399829864502\n",
      "Epoch 10, CIFAR-10 Batch 3:  Loss: 0.42555347084999084 - Accuracy: 0.6517999172210693\n",
      "Epoch 10, CIFAR-10 Batch 4:  Loss: 0.5540444850921631 - Accuracy: 0.6431999206542969\n",
      "Epoch 10, CIFAR-10 Batch 5:  Loss: 0.5184008479118347 - Accuracy: 0.6619999408721924\n",
      "Epoch 11, CIFAR-10 Batch 1:  Loss: 0.5138854384422302 - Accuracy: 0.6521998643875122\n",
      "Epoch 11, CIFAR-10 Batch 2:  Loss: 0.4141012728214264 - Accuracy: 0.6605998277664185\n",
      "Epoch 11, CIFAR-10 Batch 3:  Loss: 0.4107944071292877 - Accuracy: 0.658799946308136\n",
      "Epoch 11, CIFAR-10 Batch 4:  Loss: 0.4969368875026703 - Accuracy: 0.6591998934745789\n",
      "Epoch 11, CIFAR-10 Batch 5:  Loss: 0.4488464295864105 - Accuracy: 0.6665998697280884\n",
      "Epoch 12, CIFAR-10 Batch 1:  Loss: 0.472844660282135 - Accuracy: 0.6517999172210693\n",
      "Epoch 12, CIFAR-10 Batch 2:  Loss: 0.37025749683380127 - Accuracy: 0.6655998826026917\n",
      "Epoch 12, CIFAR-10 Batch 3:  Loss: 0.3601195812225342 - Accuracy: 0.6571999192237854\n",
      "Epoch 12, CIFAR-10 Batch 4:  Loss: 0.46544918417930603 - Accuracy: 0.6567999124526978\n",
      "Epoch 12, CIFAR-10 Batch 5:  Loss: 0.4083923101425171 - Accuracy: 0.6711999177932739\n",
      "Epoch 13, CIFAR-10 Batch 1:  Loss: 0.41724491119384766 - Accuracy: 0.6713999509811401\n",
      "Epoch 13, CIFAR-10 Batch 2:  Loss: 0.33796021342277527 - Accuracy: 0.6779998540878296\n",
      "Epoch 13, CIFAR-10 Batch 3:  Loss: 0.3346317708492279 - Accuracy: 0.6667999029159546\n",
      "Epoch 13, CIFAR-10 Batch 4:  Loss: 0.4215391278266907 - Accuracy: 0.6619999408721924\n",
      "Epoch 13, CIFAR-10 Batch 5:  Loss: 0.35044145584106445 - Accuracy: 0.6795998811721802\n",
      "Epoch 14, CIFAR-10 Batch 1:  Loss: 0.3823447525501251 - Accuracy: 0.6697998642921448\n",
      "Epoch 14, CIFAR-10 Batch 2:  Loss: 0.31290286779403687 - Accuracy: 0.6691998839378357\n",
      "Epoch 14, CIFAR-10 Batch 3:  Loss: 0.3123788833618164 - Accuracy: 0.6655999422073364\n",
      "Epoch 14, CIFAR-10 Batch 4:  Loss: 0.36737221479415894 - Accuracy: 0.6581999063491821\n",
      "Epoch 14, CIFAR-10 Batch 5:  Loss: 0.3057081401348114 - Accuracy: 0.6817998290061951\n",
      "Epoch 15, CIFAR-10 Batch 1:  Loss: 0.3401203751564026 - Accuracy: 0.6779999136924744\n",
      "Epoch 15, CIFAR-10 Batch 2:  Loss: 0.30793511867523193 - Accuracy: 0.6707998514175415\n",
      "Epoch 15, CIFAR-10 Batch 3:  Loss: 0.2940324544906616 - Accuracy: 0.6643998622894287\n",
      "Epoch 15, CIFAR-10 Batch 4:  Loss: 0.33833396434783936 - Accuracy: 0.6719998717308044\n",
      "Epoch 15, CIFAR-10 Batch 5:  Loss: 0.25892698764801025 - Accuracy: 0.6919998526573181\n",
      "Epoch 16, CIFAR-10 Batch 1:  Loss: 0.3022215962409973 - Accuracy: 0.686599850654602\n",
      "Epoch 16, CIFAR-10 Batch 2:  Loss: 0.26892584562301636 - Accuracy: 0.6903998851776123\n",
      "Epoch 16, CIFAR-10 Batch 3:  Loss: 0.2602415084838867 - Accuracy: 0.6619998812675476\n",
      "Epoch 16, CIFAR-10 Batch 4:  Loss: 0.28724023699760437 - Accuracy: 0.6821998357772827\n",
      "Epoch 16, CIFAR-10 Batch 5:  Loss: 0.2561191916465759 - Accuracy: 0.6871998906135559\n",
      "Epoch 17, CIFAR-10 Batch 1:  Loss: 0.2805781960487366 - Accuracy: 0.6871998906135559\n",
      "Epoch 17, CIFAR-10 Batch 2:  Loss: 0.22443528473377228 - Accuracy: 0.6839998960494995\n",
      "Epoch 17, CIFAR-10 Batch 3:  Loss: 0.23854729533195496 - Accuracy: 0.6683998703956604\n",
      "Epoch 17, CIFAR-10 Batch 4:  Loss: 0.28916674852371216 - Accuracy: 0.6797997951507568\n",
      "Epoch 17, CIFAR-10 Batch 5:  Loss: 0.24885521829128265 - Accuracy: 0.6969998478889465\n",
      "Epoch 18, CIFAR-10 Batch 1:  Loss: 0.2459331452846527 - Accuracy: 0.6911998391151428\n",
      "Epoch 18, CIFAR-10 Batch 2:  Loss: 0.23611696064472198 - Accuracy: 0.6689997911453247\n",
      "Epoch 18, CIFAR-10 Batch 3:  Loss: 0.226132333278656 - Accuracy: 0.6601998805999756\n",
      "Epoch 18, CIFAR-10 Batch 4:  Loss: 0.22275525331497192 - Accuracy: 0.6899998784065247\n",
      "Epoch 18, CIFAR-10 Batch 5:  Loss: 0.20781907439231873 - Accuracy: 0.6935998797416687\n",
      "Epoch 19, CIFAR-10 Batch 1:  Loss: 0.2919057607650757 - Accuracy: 0.6605998277664185\n",
      "Epoch 19, CIFAR-10 Batch 2:  Loss: 0.21520665287971497 - Accuracy: 0.6691998839378357\n",
      "Epoch 19, CIFAR-10 Batch 3:  Loss: 0.22530893981456757 - Accuracy: 0.6709998846054077\n",
      "Epoch 19, CIFAR-10 Batch 4:  Loss: 0.22690173983573914 - Accuracy: 0.6749998927116394\n",
      "Epoch 19, CIFAR-10 Batch 5:  Loss: 0.21145117282867432 - Accuracy: 0.6755998730659485\n",
      "Epoch 20, CIFAR-10 Batch 1:  Loss: 0.286135196685791 - Accuracy: 0.6713999509811401\n",
      "Epoch 20, CIFAR-10 Batch 2:  Loss: 0.20551232993602753 - Accuracy: 0.687799870967865\n",
      "Epoch 20, CIFAR-10 Batch 3:  Loss: 0.20993325114250183 - Accuracy: 0.6697999238967896\n",
      "Epoch 20, CIFAR-10 Batch 4:  Loss: 0.197103351354599 - Accuracy: 0.6861999034881592\n",
      "Epoch 20, CIFAR-10 Batch 5:  Loss: 0.18718580901622772 - Accuracy: 0.6887999176979065\n",
      "Epoch 21, CIFAR-10 Batch 1:  Loss: 0.2398892194032669 - Accuracy: 0.6697998642921448\n",
      "Epoch 21, CIFAR-10 Batch 2:  Loss: 0.17235167324543 - Accuracy: 0.6799998879432678\n",
      "Epoch 21, CIFAR-10 Batch 3:  Loss: 0.1700705736875534 - Accuracy: 0.6871998310089111\n",
      "Epoch 21, CIFAR-10 Batch 4:  Loss: 0.17151077091693878 - Accuracy: 0.681199848651886\n",
      "Epoch 21, CIFAR-10 Batch 5:  Loss: 0.1750255823135376 - Accuracy: 0.6771998405456543\n",
      "Epoch 22, CIFAR-10 Batch 1:  Loss: 0.18882106244564056 - Accuracy: 0.6873998641967773\n",
      "Epoch 22, CIFAR-10 Batch 2:  Loss: 0.16580475866794586 - Accuracy: 0.6733999252319336\n",
      "Epoch 22, CIFAR-10 Batch 3:  Loss: 0.16045215725898743 - Accuracy: 0.6855999231338501\n",
      "Epoch 22, CIFAR-10 Batch 4:  Loss: 0.15292441844940186 - Accuracy: 0.6871999502182007\n",
      "Epoch 22, CIFAR-10 Batch 5:  Loss: 0.1522602140903473 - Accuracy: 0.6855999231338501\n",
      "Epoch 23, CIFAR-10 Batch 1:  Loss: 0.19989001750946045 - Accuracy: 0.678399920463562\n",
      "Epoch 23, CIFAR-10 Batch 2:  Loss: 0.16382457315921783 - Accuracy: 0.6923998594284058\n",
      "Epoch 23, CIFAR-10 Batch 3:  Loss: 0.13639865815639496 - Accuracy: 0.6901998519897461\n",
      "Epoch 23, CIFAR-10 Batch 4:  Loss: 0.14419785141944885 - Accuracy: 0.6837999224662781\n",
      "Epoch 23, CIFAR-10 Batch 5:  Loss: 0.15221768617630005 - Accuracy: 0.6875998973846436\n",
      "Epoch 24, CIFAR-10 Batch 1:  Loss: 0.14396929740905762 - Accuracy: 0.6887998580932617\n",
      "Epoch 24, CIFAR-10 Batch 2:  Loss: 0.1495782434940338 - Accuracy: 0.6831998229026794\n",
      "Epoch 24, CIFAR-10 Batch 3:  Loss: 0.13113588094711304 - Accuracy: 0.684999942779541\n",
      "Epoch 24, CIFAR-10 Batch 4:  Loss: 0.14861558377742767 - Accuracy: 0.6825998425483704\n",
      "Epoch 24, CIFAR-10 Batch 5:  Loss: 0.141680508852005 - Accuracy: 0.6857998967170715\n",
      "Epoch 25, CIFAR-10 Batch 1:  Loss: 0.11901813745498657 - Accuracy: 0.6947999000549316\n",
      "Epoch 25, CIFAR-10 Batch 2:  Loss: 0.1171923503279686 - Accuracy: 0.6885998845100403\n",
      "Epoch 25, CIFAR-10 Batch 3:  Loss: 0.11357057839632034 - Accuracy: 0.6965998411178589\n",
      "Epoch 25, CIFAR-10 Batch 4:  Loss: 0.14223414659500122 - Accuracy: 0.6829999089241028\n",
      "Epoch 25, CIFAR-10 Batch 5:  Loss: 0.10292124003171921 - Accuracy: 0.6913999319076538\n",
      "Epoch 26, CIFAR-10 Batch 1:  Loss: 0.1285296231508255 - Accuracy: 0.6951998472213745\n",
      "Epoch 26, CIFAR-10 Batch 2:  Loss: 0.1408759206533432 - Accuracy: 0.6901998519897461\n",
      "Epoch 26, CIFAR-10 Batch 3:  Loss: 0.10786472260951996 - Accuracy: 0.6985998153686523\n",
      "Epoch 26, CIFAR-10 Batch 4:  Loss: 0.11682411283254623 - Accuracy: 0.68479984998703\n",
      "Epoch 26, CIFAR-10 Batch 5:  Loss: 0.09946803003549576 - Accuracy: 0.6929998993873596\n",
      "Epoch 27, CIFAR-10 Batch 1:  Loss: 0.10262763500213623 - Accuracy: 0.6961998343467712\n",
      "Epoch 27, CIFAR-10 Batch 2:  Loss: 0.11264938116073608 - Accuracy: 0.6911998987197876\n",
      "Epoch 27, CIFAR-10 Batch 3:  Loss: 0.11249192804098129 - Accuracy: 0.6743998527526855\n",
      "Epoch 27, CIFAR-10 Batch 4:  Loss: 0.11381938308477402 - Accuracy: 0.6813998818397522\n",
      "Epoch 27, CIFAR-10 Batch 5:  Loss: 0.10693388432264328 - Accuracy: 0.689599871635437\n",
      "Epoch 28, CIFAR-10 Batch 1:  Loss: 0.12562431395053864 - Accuracy: 0.6783998608589172\n",
      "Epoch 28, CIFAR-10 Batch 2:  Loss: 0.1012549102306366 - Accuracy: 0.6885998845100403\n",
      "Epoch 28, CIFAR-10 Batch 3:  Loss: 0.08795572817325592 - Accuracy: 0.6879999041557312\n",
      "Epoch 28, CIFAR-10 Batch 4:  Loss: 0.11367398500442505 - Accuracy: 0.6775999069213867\n",
      "Epoch 28, CIFAR-10 Batch 5:  Loss: 0.10087837278842926 - Accuracy: 0.6625998616218567\n",
      "Epoch 29, CIFAR-10 Batch 1:  Loss: 0.15735933184623718 - Accuracy: 0.665199875831604\n",
      "Epoch 29, CIFAR-10 Batch 2:  Loss: 0.08770252764225006 - Accuracy: 0.6917998790740967\n",
      "Epoch 29, CIFAR-10 Batch 3:  Loss: 0.10267867892980576 - Accuracy: 0.682999849319458\n",
      "Epoch 29, CIFAR-10 Batch 4:  Loss: 0.0943097174167633 - Accuracy: 0.6685998439788818\n",
      "Epoch 29, CIFAR-10 Batch 5:  Loss: 0.08052362501621246 - Accuracy: 0.6809998750686646\n",
      "Epoch 30, CIFAR-10 Batch 1:  Loss: 0.10692547261714935 - Accuracy: 0.6685999035835266\n",
      "Epoch 30, CIFAR-10 Batch 2:  Loss: 0.08267773687839508 - Accuracy: 0.6867998838424683\n",
      "Epoch 30, CIFAR-10 Batch 3:  Loss: 0.08804383128881454 - Accuracy: 0.6909998655319214\n",
      "Epoch 30, CIFAR-10 Batch 4:  Loss: 0.07443352788686752 - Accuracy: 0.6863998174667358\n",
      "Epoch 30, CIFAR-10 Batch 5:  Loss: 0.07830048352479935 - Accuracy: 0.6769998669624329\n",
      "Epoch 31, CIFAR-10 Batch 1:  Loss: 0.08415297418832779 - Accuracy: 0.676399827003479\n",
      "Epoch 31, CIFAR-10 Batch 2:  Loss: 0.07742685824632645 - Accuracy: 0.675399899482727\n",
      "Epoch 31, CIFAR-10 Batch 3:  Loss: 0.08511609584093094 - Accuracy: 0.6857998371124268\n",
      "Epoch 31, CIFAR-10 Batch 4:  Loss: 0.1108977198600769 - Accuracy: 0.6579998731613159\n",
      "Epoch 31, CIFAR-10 Batch 5:  Loss: 0.07223567366600037 - Accuracy: 0.678399920463562\n",
      "Epoch 32, CIFAR-10 Batch 1:  Loss: 0.0889054462313652 - Accuracy: 0.6755999326705933\n",
      "Epoch 32, CIFAR-10 Batch 2:  Loss: 0.06885597854852676 - Accuracy: 0.6811999082565308\n",
      "Epoch 32, CIFAR-10 Batch 3:  Loss: 0.07627997547388077 - Accuracy: 0.6933997869491577\n",
      "Epoch 32, CIFAR-10 Batch 4:  Loss: 0.11606431007385254 - Accuracy: 0.6579998731613159\n",
      "Epoch 32, CIFAR-10 Batch 5:  Loss: 0.07790275663137436 - Accuracy: 0.6801998615264893\n",
      "Epoch 33, CIFAR-10 Batch 1:  Loss: 0.0862293690443039 - Accuracy: 0.6723998785018921\n",
      "Epoch 33, CIFAR-10 Batch 2:  Loss: 0.0694124698638916 - Accuracy: 0.6719998717308044\n",
      "Epoch 33, CIFAR-10 Batch 3:  Loss: 0.06430651247501373 - Accuracy: 0.690599799156189\n",
      "Epoch 33, CIFAR-10 Batch 4:  Loss: 0.07794099301099777 - Accuracy: 0.6701998710632324\n",
      "Epoch 33, CIFAR-10 Batch 5:  Loss: 0.0533195436000824 - Accuracy: 0.6821998953819275\n",
      "Epoch 34, CIFAR-10 Batch 1:  Loss: 0.0722484365105629 - Accuracy: 0.6805998682975769\n",
      "Epoch 34, CIFAR-10 Batch 2:  Loss: 0.06659547984600067 - Accuracy: 0.6605998873710632\n",
      "Epoch 34, CIFAR-10 Batch 3:  Loss: 0.06426378339529037 - Accuracy: 0.6947999000549316\n",
      "Epoch 34, CIFAR-10 Batch 4:  Loss: 0.07830403745174408 - Accuracy: 0.6691999435424805\n",
      "Epoch 34, CIFAR-10 Batch 5:  Loss: 0.03927547484636307 - Accuracy: 0.6821998953819275\n",
      "Epoch 35, CIFAR-10 Batch 1:  Loss: 0.07348282635211945 - Accuracy: 0.6825999021530151\n",
      "Epoch 35, CIFAR-10 Batch 2:  Loss: 0.06053534150123596 - Accuracy: 0.665199875831604\n",
      "Epoch 35, CIFAR-10 Batch 3:  Loss: 0.05634332448244095 - Accuracy: 0.6973998546600342\n",
      "Epoch 35, CIFAR-10 Batch 4:  Loss: 0.06300230324268341 - Accuracy: 0.6715999245643616\n",
      "Epoch 35, CIFAR-10 Batch 5:  Loss: 0.04209345579147339 - Accuracy: 0.6923998594284058\n"
     ]
    }
   ],
   "source": [
    "\"\"\"\n",
    "DON'T MODIFY ANYTHING IN THIS CELL\n",
    "\"\"\"\n",
    "save_model_path = './image_classification'\n",
    "\n",
    "print('Training...')\n",
    "with tf.Session() as sess:\n",
    "    # Initializing the variables\n",
    "    sess.run(tf.global_variables_initializer())\n",
    "    \n",
    "    # Training cycle\n",
    "    for epoch in range(epochs):\n",
    "        # Loop over all batches\n",
    "        n_batches = 5\n",
    "        for batch_i in range(1, n_batches + 1):\n",
    "            for batch_features, batch_labels in helper.load_preprocess_training_batch(batch_i, batch_size):\n",
    "                train_neural_network(sess, optimizer, keep_probability, batch_features, batch_labels)\n",
    "            print('Epoch {:>2}, CIFAR-10 Batch {}:  '.format(epoch + 1, batch_i), end='')\n",
    "            print_stats(sess, batch_features, batch_labels, cost, accuracy)\n",
    "            \n",
    "    # Save Model\n",
    "    saver = tf.train.Saver()\n",
    "    save_path = saver.save(sess, save_model_path)"
   ]
  },
  {
   "cell_type": "markdown",
   "metadata": {
    "deletable": true,
    "editable": true
   },
   "source": [
    "# Checkpoint\n",
    "The model has been saved to disk.\n",
    "## Test Model\n",
    "Test your model against the test dataset.  This will be your final accuracy. You should have an accuracy greater than 50%. If you don't, keep tweaking the model architecture and parameters."
   ]
  },
  {
   "cell_type": "code",
   "execution_count": 147,
   "metadata": {
    "collapsed": false,
    "deletable": true,
    "editable": true
   },
   "outputs": [
    {
     "name": "stdout",
     "output_type": "stream",
     "text": [
      "Testing Accuracy: 0.693359375\n",
      "\n"
     ]
    },
    {
     "data": {
      "image/png": "[encoded data removed]",
      "text/plain": [
       "<matplotlib.figure.Figure at 0x7f1c0c174c50>"
      ]
     },
     "metadata": {
      "image/png": {
       "height": 319,
       "width": 355
      }
     },
     "output_type": "display_data"
    }
   ],
   "source": [
    "\"\"\"\n",
    "DON'T MODIFY ANYTHING IN THIS CELL\n",
    "\"\"\"\n",
    "%matplotlib inline\n",
    "%config InlineBackend.figure_format = 'retina'\n",
    "\n",
    "import tensorflow as tf\n",
    "import pickle\n",
    "import helper\n",
    "import random\n",
    "\n",
    "# Set batch size if not already set\n",
    "try:\n",
    "    if batch_size:\n",
    "        pass\n",
    "except NameError:\n",
    "    batch_size = 64\n",
    "\n",
    "save_model_path = './image_classification'\n",
    "n_samples = 4\n",
    "top_n_predictions = 3\n",
    "\n",
    "def test_model():\n",
    "    \"\"\"\n",
    "    Test the saved model against the test dataset\n",
    "    \"\"\"\n",
    "\n",
    "    test_features, test_labels = pickle.load(open('preprocess_training.p', mode='rb'))\n",
    "    loaded_graph = tf.Graph()\n",
    "\n",
    "    with tf.Session(graph=loaded_graph) as sess:\n",
    "        # Load model\n",
    "        loader = tf.train.import_meta_graph(save_model_path + '.meta')\n",
    "        loader.restore(sess, save_model_path)\n",
    "\n",
    "        # Get Tensors from loaded model\n",
    "        loaded_x = loaded_graph.get_tensor_by_name('x:0')\n",
    "        loaded_y = loaded_graph.get_tensor_by_name('y:0')\n",
    "        loaded_keep_prob = loaded_graph.get_tensor_by_name('keep_prob:0')\n",
    "        loaded_logits = loaded_graph.get_tensor_by_name('logits:0')\n",
    "        loaded_acc = loaded_graph.get_tensor_by_name('accuracy:0')\n",
    "        \n",
    "        # Get accuracy in batches for memory limitations\n",
    "        test_batch_acc_total = 0\n",
    "        test_batch_count = 0\n",
    "        \n",
    "        for train_feature_batch, train_label_batch in helper.batch_features_labels(test_features, test_labels, batch_size):\n",
    "            test_batch_acc_total += sess.run(\n",
    "                loaded_acc,\n",
    "                feed_dict={loaded_x: train_feature_batch, loaded_y: train_label_batch, loaded_keep_prob: 1.0})\n",
    "            test_batch_count += 1\n",
    "\n",
    "        print('Testing Accuracy: {}\\n'.format(test_batch_acc_total/test_batch_count))\n",
    "\n",
    "        # Print Random Samples\n",
    "        random_test_features, random_test_labels = tuple(zip(*random.sample(list(zip(test_features, test_labels)), n_samples)))\n",
    "        random_test_predictions = sess.run(\n",
    "            tf.nn.top_k(tf.nn.softmax(loaded_logits), top_n_predictions),\n",
    "            feed_dict={loaded_x: random_test_features, loaded_y: random_test_labels, loaded_keep_prob: 1.0})\n",
    "        helper.display_image_predictions(random_test_features, random_test_labels, random_test_predictions)\n",
    "\n",
    "\n",
    "test_model()"
   ]
  },
  {
   "cell_type": "markdown",
   "metadata": {
    "deletable": true,
    "editable": true
   },
   "source": [
    "## Why 50-70% Accuracy?\n",
    "You might be wondering why you can't get an accuracy any higher. First things first, 50% isn't bad for a simple CNN.  Pure guessing would get you 10% accuracy. However, you might notice people are getting scores [well above 70%](http://rodrigob.github.io/are_we_there_yet/build/classification_datasets_results.html#43494641522d3130).  That's because we haven't taught you all there is to know about neural networks. We still need to cover a few more techniques.\n",
    "## Submitting This Project\n",
    "When submitting this project, make sure to run all the cells before saving the notebook.  Save the notebook file as \"dlnd_image_classification.ipynb\" and save it as a HTML file under \"File\" -> \"Download as\".  Include the \"helper.py\" and \"problem_unittests.py\" files in your submission."
   ]
  }
 ],
 "metadata": {
  "kernelspec": {
   "display_name": "Python 3",
   "language": "python",
   "name": "python3"
  },
  "language_info": {
   "codemirror_mode": {
    "name": "ipython",
    "version": 3
   },
   "file_extension": ".py",
   "mimetype": "text/x-python",
   "name": "python",
   "nbconvert_exporter": "python",
   "pygments_lexer": "ipython3",
   "version": "3.5.2"
  },
  "widgets": {
   "state": {},
   "version": "1.1.2"
  }
 },
 "nbformat": 4,
 "nbformat_minor": 0
}
